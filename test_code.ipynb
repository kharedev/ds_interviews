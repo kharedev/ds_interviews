{
 "cells": [
  {
   "cell_type": "code",
   "execution_count": 30,
   "metadata": {},
   "outputs": [
    {
     "name": "stdout",
     "output_type": "stream",
     "text": [
      "sorting dict based on value\n",
      "=====sorted function returning dictionary========\n",
      "[('bvm1', 20), ('avm3', 30), ('cvm2', 50), ('dvm4', 70)]\n",
      "[('bvm1', {'pri': 20}), ('avm3', {'pri': 30}), ('cvm2', {'pri': 50}), ('dvm4', {'pri': 70})]\n",
      "[('cvm2', {'pri': 50, 'size': 20}), ('bvm1', {'pri': 20, 'size': 30}), ('avm3', {'pri': 30, 'size': 40}), ('dvm4', {'pri': 70, 'size': 80})]\n",
      "======sorted function returning List========\n",
      "['bvm1', 'avm3', 'cvm2', 'dvm4']\n",
      "['bvm1', 'avm3', 'cvm2', 'dvm4']\n",
      "sorting dict based on value\n",
      "[20, 30, 50, 70]\n",
      "sorting dict - default -- lexicographically with keys\n",
      "['avm3', 'bvm1', 'cvm2', 'dvm4']\n",
      "sorted function with List as input and  with key as function\n",
      "Normal sort : [3, 7, 11, 15]\n",
      "Sorted with key: [7, 15, 3, 11]\n"
     ]
    }
   ],
   "source": [
    "## Sorting in Python with Dictionary as input \n",
    "\n",
    "### referral link : https://www.geeksforgeeks.org/sorted-function-python/\n",
    "'''\n",
    "Sorted() function in Python\n",
    "Sorting any sequence is very easy in Python using built-in method sorted() which does all the hard work for you.\n",
    "Sorted() sorts any sequence (list, tuple) and always returns a list with the elements in sorted manner, without modifying the original sequence.\n",
    "\n",
    "Syntax : sorted(iterable, key, reverse)\n",
    "\n",
    "Parameters : sorted takes three parameters from which two are optional.\n",
    "\n",
    "Iterable : sequence (list, tuple, string) or collection (dictionary, set, frozenset) or any other iterator that needs to be sorted.\n",
    "Key(optional) : A function that would server as a key or a basis of sort comparison.\n",
    "Reverse(optional) : If set true, then the iterable would be sorted in reverse (descending) order, by default it is set as false.\n",
    "'''\n",
    "\n",
    "vm_cloud = {\"bvm1\":20,\"cvm2\":50,\"avm3\":30,\"dvm4\":70} \n",
    "vm_cloud_nested = {\"bvm1\":{\"pri\": 20},\"cvm2\":{\"pri\": 50},\"avm3\":{\"pri\": 30},\"dvm4\":{\"pri\": 70}}\n",
    "vm_cloud_nested_2 = {\"bvm1\":{\"pri\": 20,\"size\":30},\"cvm2\":{\"pri\": 50,\"size\":20},\n",
    "                     \"avm3\":{\"pri\": 30,\"size\":40},\"dvm4\":{\"pri\": 70,\"size\":80}}\n",
    "\n",
    "print(\"sorting dict based on value\")\n",
    "print(\"=====sorted function returning dictionary========\")\n",
    "print(sorted(vm_cloud.items(),key=lambda kvalue : kvalue[1]))\n",
    "print(sorted(vm_cloud_nested.items(),key=lambda kvalue : kvalue[1]['pri']))\n",
    "print(sorted(vm_cloud_nested_2.items(),key=lambda kvalue : kvalue[1]['size']))\n",
    "\n",
    "print(\"======sorted function returning List========\")\n",
    "print(sorted(vm_cloud,key=lambda kvalue : vm_cloud[kvalue]))\n",
    "print(sorted(vm_cloud_nested,key=lambda kvalue : vm_cloud_nested[kvalue]['pri']))\n",
    "\n",
    "print(\"sorting dict based on value\")\n",
    "print(sorted(vm_cloud.values()))\n",
    "\n",
    "print(\"sorting dict - default -- lexicographically with keys\")\n",
    "print(sorted(vm_cloud))\n",
    "\n",
    "print(\"sorted function with List as input and  with key as function\")\n",
    "def func(x): \n",
    "    return x % 7\n",
    "  \n",
    "L = [15, 3, 11, 7] \n",
    "  \n",
    "print (\"Normal sort :\", sorted(L) )\n",
    "print (\"Sorted with key:\", sorted(L, key = func) )\n",
    "\n",
    "\n"
   ]
  },
  {
   "cell_type": "code",
   "execution_count": 31,
   "metadata": {},
   "outputs": [
    {
     "ename": "SyntaxError",
     "evalue": "invalid syntax (<ipython-input-31-abad18df0de5>, line 71)",
     "output_type": "error",
     "traceback": [
      "\u001b[0;36m  File \u001b[0;32m\"<ipython-input-31-abad18df0de5>\"\u001b[0;36m, line \u001b[0;32m71\u001b[0m\n\u001b[0;31m    Testcases:\u001b[0m\n\u001b[0m               ^\u001b[0m\n\u001b[0;31mSyntaxError\u001b[0m\u001b[0;31m:\u001b[0m invalid syntax\n"
     ]
    }
   ],
   "source": [
    "'''\n",
    "There are n VM’s which make up an App, these VM’s are there on your local datacenter and you have to upload them to cloud to get your app up. There is a limited amount of bandwidth available to upload these VM’s. And these VM’s have a priority\n",
    "Order to boot up after they are uploaded, how would you upload these VM’s so that the App can come up in minimum time.\n",
    "\n",
    "vm4-50, vm5-50, vm6- 70\n",
    "'''\n",
    "\n",
    "'''\n",
    "vm_cloud = {\n",
    "    \"vm1\":{\"pri\": 1,\"size\":100},\n",
    "    \"vm2\" : {\"pri\": 2,\"size\":200},\n",
    "    \"vm3\" : {\"pri\": 3,\"size\":300}\n",
    "}\n",
    "\n",
    "vm_cloud = {\"vm1\":50,\"vm2\":30,\"vm3\":70,\"vm4\":60}\n",
    "vm_cloud = sorted(vm_cloud.items(),key=vm_cloud)\n",
    "\n",
    "print(vm_cloud)\n",
    "'''\n",
    "#for vm_key , vm_value in vm_cloud.items():\n",
    "    \n",
    "#vm_cloud = sorted(vm_cloud,key=lambda k: k for k in vm_cloud.values())\n",
    "                                                \n",
    "vm_cloud = {\"vm1\":30,\"vm2\":50,\"vm3\":60,\"vm4\":70} \n",
    "                                                  \n",
    "##Assumption : At a time - only 300 size capacity vm can be uploaded due to bandwidth\n",
    "target , initial_target = 80 , 80\n",
    "                                                  \n",
    "list_vms = []\n",
    "list_vm_dict = {}\n",
    "count = 1\n",
    "for vm , size in vm_cloud.items():\n",
    "    \n",
    "\n",
    "        \n",
    "    if size <= target:\n",
    "        target = target - size\n",
    "        list_vms.append(vm)                                        \n",
    "    \n",
    "        \n",
    "    if target <= 0 :\n",
    "        list_vm_dict[\"vm\"+str(count)] = list_vms\n",
    "        count +=1\n",
    "        target = initial_target\n",
    "                                                 \n",
    "print(list_vm_dict)   \n",
    "        \n",
    "'''\n",
    "vm_cloud_mod = [[\"vm1\",\"vm2\"],[\"vm3\"]]\n",
    "\n",
    "vm_cloud_sorted = sorted(vm_cloud.items(),key=vm_cloud['size'][1])\n",
    "\n",
    "vm_cloud_sorted = {\"vm3\":3,\"vm2\":2}\n",
    "\n",
    "import request\n",
    "url = \"http://upload_url\"\n",
    "#for vm_key, vm_value in vm_cloud_sorted.items():\n",
    "for vm in vm_cloud_mod:\n",
    "    upload_json = {\"vms\":[vm]}\n",
    "    request.post(url=upload_url,data=upload_json)\n",
    "    \n",
    "\n",
    "def say_hello():\n",
    "    print('Hello, World')\n",
    "\n",
    "for i in range(5):\n",
    "    say_hello()\n",
    "'''\n",
    "[30,50] , [80]\n",
    "\n",
    "Testcases: \n",
    "    1. upload status code returned by our request - successful\n",
    "    2. upload of size 0 should'nt upload\n",
    "    3. upload of large size should give us a Warning\n",
    "    4. time taken by upload of two different sets of vms of similar size \n",
    "    5."
   ]
  },
  {
   "cell_type": "code",
   "execution_count": 12,
   "metadata": {},
   "outputs": [
    {
     "name": "stdout",
     "output_type": "stream",
     "text": [
      "[15]\n"
     ]
    }
   ],
   "source": [
    "list_num = []\n",
    "def findPeak(arr, low, high, n) :\n",
    "\n",
    "    mid = int((low + high)/2) \n",
    "  \n",
    "    if ((mid == 0 or arr[mid-1] <= arr[mid]) and \n",
    "            (mid == n-1 or arr[mid+1] <= arr[mid])) :\n",
    "        list_num.append(arr[mid])\n",
    "        #return arr[mid]\n",
    "  \n",
    "    # If middle element is not peak and its left neighbour is greater  \n",
    "    # than it, then left half must have a peak element \n",
    "    if (mid > 0 and arr[mid-1] > arr[mid]) :\n",
    "        return findPeak(arr, low, (mid -1), n)\n",
    "  \n",
    "    # If middle element is not peak and its right neighbour is greater \n",
    "    # than it, then right half must have a peak element \n",
    "    #else :\n",
    "    if (mid <= n-1 and arr[mid+1] > arr[mid]) :\n",
    "        return findPeak(arr, (mid + 1), high, n)\n",
    "    \n",
    "    return list_num\n",
    "\n",
    "arr = [10, 11, 15, 2, 23, 90, 67]\n",
    "print(findPeak(arr,0,len(arr),len(arr)))"
   ]
  },
  {
   "cell_type": "code",
   "execution_count": 3,
   "metadata": {},
   "outputs": [
    {
     "ename": "TypeError",
     "evalue": "'str' object does not support item assignment",
     "output_type": "error",
     "traceback": [
      "\u001b[0;31m---------------------------------------------------------------------------\u001b[0m",
      "\u001b[0;31mTypeError\u001b[0m                                 Traceback (most recent call last)",
      "\u001b[0;32m<ipython-input-3-112d6085c7aa>\u001b[0m in \u001b[0;36m<module>\u001b[0;34m\u001b[0m\n\u001b[1;32m     10\u001b[0m \u001b[0;34m\u001b[0m\u001b[0m\n\u001b[1;32m     11\u001b[0m \u001b[0;34m\u001b[0m\u001b[0m\n\u001b[0;32m---> 12\u001b[0;31m \u001b[0mpermute\u001b[0m\u001b[0;34m(\u001b[0m\u001b[0;34m\"ABC\"\u001b[0m\u001b[0;34m,\u001b[0m\u001b[0;36m0\u001b[0m\u001b[0;34m,\u001b[0m\u001b[0mlen\u001b[0m\u001b[0;34m(\u001b[0m\u001b[0;34m\"ABC\"\u001b[0m\u001b[0;34m)\u001b[0m\u001b[0;34m)\u001b[0m\u001b[0;34m\u001b[0m\u001b[0;34m\u001b[0m\u001b[0m\n\u001b[0m",
      "\u001b[0;32m<ipython-input-3-112d6085c7aa>\u001b[0m in \u001b[0;36mpermute\u001b[0;34m(data, i, length)\u001b[0m\n\u001b[1;32m      5\u001b[0m         \u001b[0;32mfor\u001b[0m \u001b[0mj\u001b[0m \u001b[0;32min\u001b[0m \u001b[0mrange\u001b[0m\u001b[0;34m(\u001b[0m\u001b[0mi\u001b[0m\u001b[0;34m,\u001b[0m\u001b[0mlength\u001b[0m\u001b[0;34m)\u001b[0m\u001b[0;34m:\u001b[0m\u001b[0;34m\u001b[0m\u001b[0;34m\u001b[0m\u001b[0m\n\u001b[1;32m      6\u001b[0m             \u001b[0;31m#swap\u001b[0m\u001b[0;34m\u001b[0m\u001b[0;34m\u001b[0m\u001b[0;34m\u001b[0m\u001b[0m\n\u001b[0;32m----> 7\u001b[0;31m             \u001b[0mdata\u001b[0m\u001b[0;34m[\u001b[0m\u001b[0mi\u001b[0m\u001b[0;34m]\u001b[0m\u001b[0;34m,\u001b[0m \u001b[0mdata\u001b[0m\u001b[0;34m[\u001b[0m\u001b[0mj\u001b[0m\u001b[0;34m]\u001b[0m \u001b[0;34m=\u001b[0m \u001b[0mdata\u001b[0m\u001b[0;34m[\u001b[0m\u001b[0mj\u001b[0m\u001b[0;34m]\u001b[0m\u001b[0;34m,\u001b[0m \u001b[0mdata\u001b[0m\u001b[0;34m[\u001b[0m\u001b[0mi\u001b[0m\u001b[0;34m]\u001b[0m\u001b[0;34m\u001b[0m\u001b[0;34m\u001b[0m\u001b[0m\n\u001b[0m\u001b[1;32m      8\u001b[0m             \u001b[0mpermute\u001b[0m\u001b[0;34m(\u001b[0m\u001b[0mdata\u001b[0m\u001b[0;34m,\u001b[0m \u001b[0mi\u001b[0m\u001b[0;34m+\u001b[0m\u001b[0;36m1\u001b[0m\u001b[0;34m,\u001b[0m \u001b[0mlength\u001b[0m\u001b[0;34m)\u001b[0m\u001b[0;34m\u001b[0m\u001b[0;34m\u001b[0m\u001b[0m\n\u001b[1;32m      9\u001b[0m             \u001b[0mdata\u001b[0m\u001b[0;34m[\u001b[0m\u001b[0mi\u001b[0m\u001b[0;34m]\u001b[0m\u001b[0;34m,\u001b[0m \u001b[0mdata\u001b[0m\u001b[0;34m[\u001b[0m\u001b[0mj\u001b[0m\u001b[0;34m]\u001b[0m \u001b[0;34m=\u001b[0m \u001b[0mdata\u001b[0m\u001b[0;34m[\u001b[0m\u001b[0mj\u001b[0m\u001b[0;34m]\u001b[0m\u001b[0;34m,\u001b[0m \u001b[0mdata\u001b[0m\u001b[0;34m[\u001b[0m\u001b[0mi\u001b[0m\u001b[0;34m]\u001b[0m\u001b[0;34m\u001b[0m\u001b[0;34m\u001b[0m\u001b[0m\n",
      "\u001b[0;31mTypeError\u001b[0m: 'str' object does not support item assignment"
     ]
    }
   ],
   "source": [
    "def permute(data, i, length): \n",
    "    if i==length: \n",
    "        print(''.join(data) )\n",
    "    else: \n",
    "        for j in range(i,length): \n",
    "            #swap\n",
    "            data[i], data[j] = data[j], data[i] \n",
    "            permute(data, i+1, length) \n",
    "            data[i], data[j] = data[j], data[i]  \n",
    "            \n",
    "            \n",
    "permute(\"ABC\",0,len(\"ABC\"))"
   ]
  },
  {
   "cell_type": "code",
   "execution_count": null,
   "metadata": {},
   "outputs": [],
   "source": []
  }
 ],
 "metadata": {
  "kernelspec": {
   "display_name": "Python 3",
   "language": "python",
   "name": "python3"
  },
  "language_info": {
   "codemirror_mode": {
    "name": "ipython",
    "version": 3
   },
   "file_extension": ".py",
   "mimetype": "text/x-python",
   "name": "python",
   "nbconvert_exporter": "python",
   "pygments_lexer": "ipython3",
   "version": "3.7.1"
  }
 },
 "nbformat": 4,
 "nbformat_minor": 2
}
